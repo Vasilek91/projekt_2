{
  "nbformat": 4,
  "nbformat_minor": 0,
  "metadata": {
    "colab": {
      "provenance": [],
      "authorship_tag": "ABX9TyPEgKeMBBgwXPYtJeGrhbqb",
      "include_colab_link": true
    },
    "kernelspec": {
      "name": "python3",
      "display_name": "Python 3"
    },
    "language_info": {
      "name": "python"
    }
  },
  "cells": [
    {
      "cell_type": "markdown",
      "metadata": {
        "id": "view-in-github",
        "colab_type": "text"
      },
      "source": [
        "<a href=\"https://colab.research.google.com/github/Vasilek91/projekt_2/blob/main/projekt2_tic_tac_toe.ipynb\" target=\"_parent\"><img src=\"https://colab.research.google.com/assets/colab-badge.svg\" alt=\"Open In Colab\"/></a>"
      ]
    },
    {
      "cell_type": "code",
      "execution_count": 6,
      "metadata": {
        "colab": {
          "base_uri": "https://localhost:8080/"
        },
        "id": "D6aYOTtmQNlg",
        "outputId": "4e187c48-c0d2-4be0-cc1d-bf6aa2a73f75"
      },
      "outputs": [
        {
          "output_type": "stream",
          "name": "stdout",
          "text": [
            "Welcome to Tic Tac Toe\n",
            "========================================\n",
            "GAME RULES:\n",
            "Each player can place one mark (or stone)\n",
            "per turn on the 3x3 grid. The WINNER is\n",
            "who succeeds in placing three of their\n",
            "marks in a:\n",
            "* horizontal,\n",
            "* vertical or\n",
            "* diagonal row\n",
            "========================================\n",
            "Let's start the game\n",
            "--------------------------------------------\n",
            "+---+---+---+\n",
            "|   |   |   |\n",
            "+---+---+---+\n",
            "|   |   |   |\n",
            "+---+---+---+\n",
            "|   |   |   |\n",
            "+---+---+---+\n",
            "\n",
            "\n",
            "+---+---+---+\n",
            "| 1 | 2 | 3 |\n",
            "+---+---+---+\n",
            "| 4 | 5 | 6 |\n",
            "+---+---+---+\n",
            "| 7 | 8 | 9 |\n",
            "+---+---+---+\n"
          ]
        }
      ],
      "source": [
        "\"\"\"\n",
        "projekt_2.py: druhý projekt do Engeto Online Python Akademie\n",
        "\n",
        "author: Petr Svetr\n",
        "email: petr.svetr@gmail.com\n",
        "discord: Petr Svetr#4490\n",
        "\"\"\"\n",
        "print(\"\"\"Welcome to Tic Tac Toe\n",
        "========================================\n",
        "GAME RULES:\n",
        "Each player can place one mark (or stone)\n",
        "per turn on the 3x3 grid. The WINNER is\n",
        "who succeeds in placing three of their\n",
        "marks in a:\n",
        "* horizontal,\n",
        "* vertical or\n",
        "* diagonal row\n",
        "========================================\n",
        "Let's start the game\n",
        "--------------------------------------------\n",
        "+---+---+---+\n",
        "|   |   |   |\n",
        "+---+---+---+\n",
        "|   |   |   |\n",
        "+---+---+---+\n",
        "|   |   |   |\n",
        "+---+---+---+\"\"\")\n",
        "\n",
        "mrizka = f'''\n",
        "+---+---+---+\n",
        "| {1} | {2} | {3} |\n",
        "+---+---+---+\n",
        "| {4} | {5} | {6} |\n",
        "+---+---+---+\n",
        "| {7} | {8} | {9} |\n",
        "+---+---+---+'''\n",
        "print(mrizka)\n",
        "\n",
        "\n",
        "1 = 1\n",
        "2 = 2\n",
        "3 = 3\n",
        "4 = 4\n",
        "5 = 5\n",
        "6 = 6\n",
        "7 = 7\n",
        "8 = 8\n",
        "9 = 9"
      ]
    }
  ]
}